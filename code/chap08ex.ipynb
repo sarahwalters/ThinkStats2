{
 "metadata": {
  "name": ""
 },
 "nbformat": 3,
 "nbformat_minor": 0,
 "worksheets": [
  {
   "cells": [
    {
     "cell_type": "code",
     "collapsed": false,
     "input": [
      "%matplotlib inline"
     ],
     "language": "python",
     "metadata": {},
     "outputs": [],
     "prompt_number": 32
    },
    {
     "cell_type": "code",
     "collapsed": false,
     "input": [
      "import estimation as e\n",
      "\n",
      "from __future__ import print_function\n",
      "\n",
      "import thinkstats2\n",
      "import thinkplot\n",
      "\n",
      "import math\n",
      "import random\n",
      "import numpy as np"
     ],
     "language": "python",
     "metadata": {},
     "outputs": [],
     "prompt_number": 17
    },
    {
     "cell_type": "markdown",
     "metadata": {},
     "source": [
      "RUN EXISTING FNS"
     ]
    },
    {
     "cell_type": "markdown",
     "metadata": {},
     "source": [
      "Estimate 1 - Evaluates RMSE of sample mean and median as estimators."
     ]
    },
    {
     "cell_type": "code",
     "collapsed": false,
     "input": [
      "e.Estimate1()"
     ],
     "language": "python",
     "metadata": {},
     "outputs": [
      {
       "output_type": "stream",
       "stream": "stdout",
       "text": [
        "Experiment 1\n",
        "rmse xbar 0.37461693766\n",
        "rmse median 0.446976073009\n"
       ]
      }
     ],
     "prompt_number": 4
    },
    {
     "cell_type": "markdown",
     "metadata": {},
     "source": [
      "Estimate 2 - Evaluates S and Sn-1 as estimators of sample variance."
     ]
    },
    {
     "cell_type": "code",
     "collapsed": false,
     "input": [
      "e.Estimate2()"
     ],
     "language": "python",
     "metadata": {},
     "outputs": [
      {
       "output_type": "stream",
       "stream": "stdout",
       "text": [
        "Experiment 2\n",
        "mean error biased -0.167478998189\n",
        "mean error unbiased -0.0287254978874\n"
       ]
      }
     ],
     "prompt_number": 6
    },
    {
     "cell_type": "markdown",
     "metadata": {},
     "source": [
      "Estimate 3 - Evaluates L and Lm as estimators of the exponential parameter."
     ]
    },
    {
     "cell_type": "code",
     "collapsed": false,
     "input": [
      "e.Estimate3()"
     ],
     "language": "python",
     "metadata": {},
     "outputs": [
      {
       "output_type": "stream",
       "stream": "stdout",
       "text": [
        "Experiment 3\n",
        "rmse L 1.08880338373\n",
        "rmse Lm 1.84999993111\n",
        "mean error L 0.340332070853\n",
        "mean error Lm 0.491862523234\n"
       ]
      }
     ],
     "prompt_number": 7
    },
    {
     "cell_type": "markdown",
     "metadata": {},
     "source": [
      "NEW FNS"
     ]
    },
    {
     "cell_type": "markdown",
     "metadata": {},
     "source": [
      "8.1: </br>\n",
      "1) Determine whether mean and median are biased or unbiased </br>\n",
      "2) Determine whether $S^2$ or $S_{n-1}^2$ yields a lower MSE"
     ]
    },
    {
     "cell_type": "markdown",
     "metadata": {},
     "source": [
      "1: Mean and median are both unbiased (mean error goes to 0 for both after many repetitions)"
     ]
    },
    {
     "cell_type": "code",
     "collapsed": false,
     "input": [
      "def Estimate4(n=7, m=1000):\n",
      "    mu = 0\n",
      "    sigma = 1\n",
      "    \n",
      "    means = []\n",
      "    medians = []\n",
      "    for _ in range(m):\n",
      "        xs = [random.gauss(mu, sigma) for _ in range(n)]\n",
      "        xbar = np.mean(xs)\n",
      "        median = np.median(xs)\n",
      "        means.append(xbar)\n",
      "        medians.append(median)\n",
      "    \n",
      "    print ('Experiment 4')\n",
      "    print('mean error xbar', e.MeanError(means, mu))\n",
      "    print('mean error median', e.MeanError(medians, mu))"
     ],
     "language": "python",
     "metadata": {},
     "outputs": [],
     "prompt_number": 20
    },
    {
     "cell_type": "code",
     "collapsed": false,
     "input": [
      "Estimate4()"
     ],
     "language": "python",
     "metadata": {},
     "outputs": [
      {
       "output_type": "stream",
       "stream": "stdout",
       "text": [
        "Experiment 4\n",
        "mean error xbar -0.0119049389655\n",
        "mean error median 0.0021809308239\n"
       ]
      }
     ],
     "prompt_number": 21
    },
    {
     "cell_type": "markdown",
     "metadata": {},
     "source": [
      "2: $S^2$ yields a lower MSE"
     ]
    },
    {
     "cell_type": "code",
     "collapsed": false,
     "input": [
      "def Estimate5(n=7, m=1000):\n",
      "    mu = 0\n",
      "    sigma = 1\n",
      "    \n",
      "    estimates1 = []\n",
      "    estimates2 = []\n",
      "    for _ in range(m):\n",
      "        xs = [random.gauss(mu, sigma) for _ in range(n)]\n",
      "        biased = np.var(xs)\n",
      "        unbiased = np.var(xs, ddof=1)\n",
      "        estimates1.append(biased)\n",
      "        estimates2.append(unbiased)\n",
      "        \n",
      "    print('Experiment 5')\n",
      "    print('rmse biased', e.RMSE(estimates1, sigma**2))\n",
      "    print('rmse unbiased', e.RMSE(estimates2, sigma**2))"
     ],
     "language": "python",
     "metadata": {},
     "outputs": [],
     "prompt_number": 26
    },
    {
     "cell_type": "code",
     "collapsed": false,
     "input": [
      "Estimate5()"
     ],
     "language": "python",
     "metadata": {},
     "outputs": [
      {
       "output_type": "stream",
       "stream": "stdout",
       "text": [
        "Experiment 5\n",
        "rmse biased 0.497030444434\n",
        "rmse unbiased 0.551103187645\n"
       ]
      }
     ],
     "prompt_number": 27
    },
    {
     "cell_type": "markdown",
     "metadata": {},
     "source": [
      "8.2: Suppose you draw a sample with size n=10 from an exponential distribution with lam=2. Simulate this experiment 1000 times and plot the sampling distribution of the estimate L. Compute the standard error of the estimate and the 90% confidence interval."
     ]
    },
    {
     "cell_type": "markdown",
     "metadata": {},
     "source": [
      "Compute standard error and 90% confidence interval"
     ]
    },
    {
     "cell_type": "code",
     "collapsed": false,
     "input": [
      "def Estimate6(n=10, m=1000, verbose=True):\n",
      "    lam = 2\n",
      "    \n",
      "    means = []\n",
      "    for _ in range(m):\n",
      "        xs = np.random.exponential(1.0/lam, n)\n",
      "        L = 1 / np.mean(xs)\n",
      "        means.append(L)\n",
      "    \n",
      "    samplingCdf = thinkstats2.Cdf(means, label='sampling')\n",
      "        \n",
      "    stdError = e.RMSE(means, lam)\n",
      "    confInt = samplingCdf.ConfidenceInterval()\n",
      "    \n",
      "    if verbose:\n",
      "        thinkplot.Cdf(samplingCdf)\n",
      "        thinkplot.Show()\n",
      "        print('Experiment 6')\n",
      "        print('standard error', stdError)\n",
      "        print('confidence interval', confInt)\n",
      "    else:\n",
      "        return stdError"
     ],
     "language": "python",
     "metadata": {},
     "outputs": [],
     "prompt_number": 89
    },
    {
     "cell_type": "code",
     "collapsed": false,
     "input": [
      "Estimate6()"
     ],
     "language": "python",
     "metadata": {},
     "outputs": [
      {
       "metadata": {},
       "output_type": "display_data",
       "png": "[encoded data removed]",
       "text": [
        "<matplotlib.figure.Figure at 0x7f0a567aa590>"
       ]
      },
      {
       "output_type": "stream",
       "stream": "stdout",
       "text": [
        "Experiment 6\n",
        "standard error 0.808315079322\n",
        "confidence interval (1.2958829358395667, 3.7415357945429975)\n"
       ]
      },
      {
       "metadata": {},
       "output_type": "display_data",
       "text": [
        "<matplotlib.figure.Figure at 0x7f0a569cd650>"
       ]
      }
     ],
     "prompt_number": 90
    },
    {
     "cell_type": "markdown",
     "metadata": {},
     "source": [
      "Plot standard error vs number of values in sample"
     ]
    },
    {
     "cell_type": "code",
     "collapsed": false,
     "input": [
      "numVals = 10\n",
      "vals = [i+1 for i in range(numVals+1)]\n",
      "estimates = [Estimate6(n=val, verbose=False) for val in vals]\n",
      "thinkplot.Scatter(vals, estimates, alpha=1)"
     ],
     "language": "python",
     "metadata": {},
     "outputs": [
      {
       "metadata": {},
       "output_type": "display_data",
       "png": "[encoded data removed]",
       "text": [
        "<matplotlib.figure.Figure at 0x7f0a567cbe90>"
       ]
      }
     ],
     "prompt_number": 88
    },
    {
     "cell_type": "markdown",
     "metadata": {},
     "source": [
      "8.3: </br>\n",
      "1) Write a function that takes a goal-scoring rate, lam, in goals per game, and simulates a game by generating the time between goals until the total time exceeds 1 game, then returns the number of goals scored. </br>\n",
      "2) Write another function that simulates many games, stores the estimates of lam, then computes their mean error and RMSE. </br>\n",
      "3) Plot the sampling distribution of the estimates and the 90% confidence interfal. What is the standard error? What happens to sampling error for increasing values of lam?"
     ]
    },
    {
     "cell_type": "code",
     "collapsed": false,
     "input": [
      "def SimulateGame(lam):\n",
      "    gameLength = 0\n",
      "    numGoals = 0\n",
      "    while (gameLength < 1):\n",
      "        numGoals += 1\n",
      "        gameLength += np.random.exponential(1.0/lam, 1)\n",
      "    return numGoals"
     ],
     "language": "python",
     "metadata": {},
     "outputs": [],
     "prompt_number": 107
    },
    {
     "cell_type": "code",
     "collapsed": false,
     "input": [
      "[SimulateGame(2) for _ in range(10)]"
     ],
     "language": "python",
     "metadata": {},
     "outputs": [
      {
       "metadata": {},
       "output_type": "pyout",
       "prompt_number": 126,
       "text": [
        "[1, 1, 2, 1, 4, 1, 2, 3, 5, 6]"
       ]
      }
     ],
     "prompt_number": 126
    },
    {
     "cell_type": "code",
     "collapsed": false,
     "input": [
      "def GameError(lam=2, m=1000, verbose=True):\n",
      "    estimates = []\n",
      "    for _ in range(m):\n",
      "        estimates.append(SimulateGame(lam))\n",
      "    \n",
      "    samplingCdf = thinkstats2.Cdf(estimates)\n",
      "    meanError = e.MeanError(estimates, lam)\n",
      "    rmse = e.RMSE(estimates, lam)\n",
      "    confInt = samplingCdf.ConfidenceInterval()\n",
      "    \n",
      "    def VertLine(x, y=1):\n",
      "        thinkplot.Plot([x, x], [0, y], color='0.8', linewidth=3)\n",
      "    if verbose: \n",
      "        thinkplot.config(xlim=[0,10])\n",
      "        thinkplot.Cdf(samplingCdf)\n",
      "        VertLine(confInt[0])\n",
      "        VertLine(confInt[1])\n",
      "        thinkplot.Show()\n",
      "        print('mean error', meanError)\n",
      "        print('rmse', rmse)"
     ],
     "language": "python",
     "metadata": {},
     "outputs": [],
     "prompt_number": 166
    },
    {
     "cell_type": "code",
     "collapsed": false,
     "input": [
      "GameError()"
     ],
     "language": "python",
     "metadata": {},
     "outputs": [
      {
       "metadata": {},
       "output_type": "display_data",
       "png": "[encoded data removed]",
       "text": [
        "<matplotlib.figure.Figure at 0x7f0a5687bf90>"
       ]
      },
      {
       "output_type": "stream",
       "stream": "stdout",
       "text": [
        "mean error 1.03\n",
        "rmse 1.73262806165\n"
       ]
      },
      {
       "metadata": {},
       "output_type": "display_data",
       "text": [
        "<matplotlib.figure.Figure at 0x7f0a567c2bd0>"
       ]
      }
     ],
     "prompt_number": 167
    }
   ],
   "metadata": {}
  }
 ]
}