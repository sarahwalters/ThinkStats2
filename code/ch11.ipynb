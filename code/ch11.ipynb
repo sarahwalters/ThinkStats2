{
 "metadata": {
  "name": "",
  "signature": "sha256:e8bb1e4618c1bf0565ff4533c34709f4a1f6618dd3181709e5c1a60bd056a360"
 },
 "nbformat": 3,
 "nbformat_minor": 0,
 "worksheets": [
  {
   "cells": [
    {
     "cell_type": "code",
     "collapsed": false,
     "input": [
      "import first\n",
      "import chap01soln\n",
      "\n",
      "live, firsts, others = first.MakeFrames()\n",
      "resp = chap01soln.ReadFemResp()\n",
      "resp.index = resp.caseid\n",
      "\n",
      "join = live.join(resp, on='caseid', rsuffix='_r')"
     ],
     "language": "python",
     "metadata": {},
     "outputs": [],
     "prompt_number": 1
    },
    {
     "cell_type": "code",
     "collapsed": false,
     "input": [
      "types1 = []\n",
      "for name in join.columns:\n",
      "    formula = \"totalwgt_lb ~ agepreg + \" + name\n",
      "    types1.append(type(formula))"
     ],
     "language": "python",
     "metadata": {},
     "outputs": [],
     "prompt_number": 6
    },
    {
     "cell_type": "code",
     "collapsed": false,
     "input": [
      "types2 = []\n",
      "for name in join.columns:\n",
      "    formula = 'totalwgt_lb ~ agepreg + ' + name\n",
      "    types2.append(type(formula))"
     ],
     "language": "python",
     "metadata": {},
     "outputs": [],
     "prompt_number": 7
    },
    {
     "cell_type": "code",
     "collapsed": false,
     "input": [
      "types3 = []\n",
      "for name in join.columns:\n",
      "    formula = str('totalwgt_lb ~ agepreg + ' + name)\n",
      "    types3.append(type(formula))"
     ],
     "language": "python",
     "metadata": {},
     "outputs": [],
     "prompt_number": 8
    },
    {
     "cell_type": "code",
     "collapsed": false,
     "input": [
      "print (\"Double quotes: \", types1[0] # double quotes, \"\"\n",
      "print types2[0] # single quotes, ''\n",
      "print types3[0] # cast to string, str()"
     ],
     "language": "python",
     "metadata": {},
     "outputs": [
      {
       "ename": "TypeError",
       "evalue": "cannot concatenate 'str' and 'type' objects",
       "output_type": "pyerr",
       "traceback": [
        "\u001b[1;31m---------------------------------------------------------------------------\u001b[0m\n\u001b[1;31mTypeError\u001b[0m                                 Traceback (most recent call last)",
        "\u001b[1;32m<ipython-input-12-2b11215b6a56>\u001b[0m in \u001b[0;36m<module>\u001b[1;34m()\u001b[0m\n\u001b[1;32m----> 1\u001b[1;33m \u001b[1;32mprint\u001b[0m \u001b[1;34m\"Double quotes: \"\u001b[0m \u001b[1;33m+\u001b[0m \u001b[0mtypes1\u001b[0m\u001b[1;33m[\u001b[0m\u001b[1;36m0\u001b[0m\u001b[1;33m]\u001b[0m \u001b[1;31m# double quotes, \"\"\u001b[0m\u001b[1;33m\u001b[0m\u001b[0m\n\u001b[0m\u001b[0;32m      2\u001b[0m \u001b[1;32mprint\u001b[0m \u001b[0mtypes2\u001b[0m\u001b[1;33m[\u001b[0m\u001b[1;36m0\u001b[0m\u001b[1;33m]\u001b[0m \u001b[1;31m# single quotes, ''\u001b[0m\u001b[1;33m\u001b[0m\u001b[0m\n\u001b[0;32m      3\u001b[0m \u001b[1;32mprint\u001b[0m \u001b[0mtypes3\u001b[0m\u001b[1;33m[\u001b[0m\u001b[1;36m0\u001b[0m\u001b[1;33m]\u001b[0m \u001b[1;31m# cast to string, str()\u001b[0m\u001b[1;33m\u001b[0m\u001b[0m\n",
        "\u001b[1;31mTypeError\u001b[0m: cannot concatenate 'str' and 'type' objects"
       ]
      }
     ],
     "prompt_number": 12
    },
    {
     "cell_type": "code",
     "collapsed": false,
     "input": [],
     "language": "python",
     "metadata": {},
     "outputs": []
    }
   ],
   "metadata": {}
  }
 ]
}