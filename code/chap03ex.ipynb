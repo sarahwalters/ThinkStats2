{
 "metadata": {
  "name": "",
  "signature": "sha256:da179208d765aa8b92bd89f54d0434abe8ba2f4bbca01caaa54e9ae6c13ac9ec"
 },
 "nbformat": 3,
 "nbformat_minor": 0,
 "worksheets": [
  {
   "cells": [
    {
     "cell_type": "code",
     "collapsed": false,
     "input": [
      "%matplotlib inline"
     ],
     "language": "python",
     "metadata": {},
     "outputs": [],
     "prompt_number": 39
    },
    {
     "cell_type": "markdown",
     "metadata": {},
     "source": [
      "Read the female respondent file."
     ]
    },
    {
     "cell_type": "code",
     "collapsed": false,
     "input": [
      "import chap01soln\n",
      "resp = chap01soln.ReadFemResp()"
     ],
     "language": "python",
     "metadata": {},
     "outputs": [],
     "prompt_number": 40
    },
    {
     "cell_type": "markdown",
     "metadata": {},
     "source": [
      "Make a PMF of <tt>numkdhh</tt>, the number of children under 18 in the respondent's household."
     ]
    },
    {
     "cell_type": "code",
     "collapsed": false,
     "input": [
      "import thinkstats2\n",
      "numkdhh_pmf = thinkstats2.Pmf(resp.numkdhh, label='numkdhh')"
     ],
     "language": "python",
     "metadata": {},
     "outputs": [],
     "prompt_number": 41
    },
    {
     "cell_type": "markdown",
     "metadata": {},
     "source": [
      "Display the PMF."
     ]
    },
    {
     "cell_type": "code",
     "collapsed": false,
     "input": [
      "import thinkplot\n",
      "thinkplot.Pmf(numkdhh_pmf, label='numkdhh')\n",
      "thinkplot.Show(xlabel='Number of children', ylabel='PMF')"
     ],
     "language": "python",
     "metadata": {},
     "outputs": [
      {
       "metadata": {},
       "output_type": "display_data",
       "png": "[encoded data removed]",
       "text": [
        "<matplotlib.figure.Figure at 0x7fdc36ee6790>"
       ]
      },
      {
       "metadata": {},
       "output_type": "display_data",
       "text": [
        "<matplotlib.figure.Figure at 0x7fdc365d3050>"
       ]
      }
     ],
     "prompt_number": 42
    },
    {
     "cell_type": "markdown",
     "metadata": {},
     "source": [
      "Define <tt>BiasPmf</tt>."
     ]
    },
    {
     "cell_type": "code",
     "collapsed": false,
     "input": [
      "def BiasPmf(pmf, label=''):\n",
      "    \"\"\"Returns the Pmf with oversampling proportional to value.\n",
      "\n",
      "    If pmf is the distribution of true values, the result is the\n",
      "    distribution that would be seen if values are oversampled in\n",
      "    proportion to their values; for example, if you ask students\n",
      "    how big their classes are, large classes are oversampled in\n",
      "    proportion to their size.\n",
      "\n",
      "    Args:\n",
      "      pmf: Pmf object.\n",
      "      label: string label for the new Pmf.\n",
      "\n",
      "     Returns:\n",
      "       Pmf object\n",
      "    \"\"\"\n",
      "    new_pmf = pmf.Copy(label=label)\n",
      "\n",
      "    for x, p in pmf.Items():\n",
      "        new_pmf.Mult(x, x)\n",
      "        \n",
      "    new_pmf.Normalize()\n",
      "    return new_pmf"
     ],
     "language": "python",
     "metadata": {},
     "outputs": [],
     "prompt_number": 43
    },
    {
     "cell_type": "markdown",
     "metadata": {},
     "source": [
      "Make a the biased Pmf of children in the household, as observed if you surveyed the children instead of the respondents."
     ]
    },
    {
     "cell_type": "code",
     "collapsed": false,
     "input": [
      "numkdhh_biaspmf = BiasPmf(numkdhh_pmf, label='biased')"
     ],
     "language": "python",
     "metadata": {},
     "outputs": [],
     "prompt_number": 44
    },
    {
     "cell_type": "markdown",
     "metadata": {},
     "source": [
      "Display the actual Pmf and the biased Pmf on the same axes."
     ]
    },
    {
     "cell_type": "code",
     "collapsed": false,
     "input": [
      "thinkplot.PrePlot(2)\n",
      "thinkplot.Pmfs([numkdhh_pmf, numkdhh_biaspmf])\n",
      "thinkplot.Show()"
     ],
     "language": "python",
     "metadata": {},
     "outputs": [
      {
       "metadata": {},
       "output_type": "display_data",
       "png": "[encoded data removed]",
       "text": [
        "<matplotlib.figure.Figure at 0x7fdc6cbdeb50>"
       ]
      },
      {
       "metadata": {},
       "output_type": "display_data",
       "text": [
        "<matplotlib.figure.Figure at 0x7fdc36a3ddd0>"
       ]
      }
     ],
     "prompt_number": 45
    },
    {
     "cell_type": "markdown",
     "metadata": {},
     "source": [
      "Compute the means of the two Pmfs."
     ]
    },
    {
     "cell_type": "code",
     "collapsed": false,
     "input": [
      "mean = numkdhh_pmf.Mean()\n",
      "biasMean = numkdhh_biaspmf.Mean()\n",
      "mean, biasMean"
     ],
     "language": "python",
     "metadata": {},
     "outputs": [
      {
       "metadata": {},
       "output_type": "pyout",
       "prompt_number": 46,
       "text": [
        "(1.0242051550438309, 2.4036791006642821)"
       ]
      }
     ],
     "prompt_number": 46
    },
    {
     "cell_type": "code",
     "collapsed": false,
     "input": [],
     "language": "python",
     "metadata": {},
     "outputs": [],
     "prompt_number": 46
    },
    {
     "cell_type": "code",
     "collapsed": false,
     "input": [],
     "language": "python",
     "metadata": {},
     "outputs": [],
     "prompt_number": 46
    }
   ],
   "metadata": {}
  }
 ]
}