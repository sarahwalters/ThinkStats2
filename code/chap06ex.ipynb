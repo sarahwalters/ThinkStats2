{
 "metadata": {
  "name": "",
  "signature": "sha256:08fd17a4674d594ef96419a1e15bf454f52c7d9386d8fcbbe12ba43b79bcf7f7"
 },
 "nbformat": 3,
 "nbformat_minor": 0,
 "worksheets": [
  {
   "cells": [
    {
     "cell_type": "code",
     "collapsed": false,
     "input": [
      "%matplotlib inline"
     ],
     "language": "python",
     "metadata": {},
     "outputs": [],
     "prompt_number": 2
    },
    {
     "cell_type": "code",
     "collapsed": false,
     "input": [
      "import hinc\n",
      "import hinc2\n",
      "import thinkstats2\n",
      "import thinkplot"
     ],
     "language": "python",
     "metadata": {},
     "outputs": [],
     "prompt_number": 59
    },
    {
     "cell_type": "code",
     "collapsed": false,
     "input": [
      "# from hinc2.py -> main()\n",
      "df = hinc.ReadData()\n",
      "#df = df.drop(df.index[df.income > 10e100]) # drop inf incomes\n",
      "log_sample = hinc2.InterpolateSample(df, log_upper=6.0) # assume max is $1mil"
     ],
     "language": "python",
     "metadata": {},
     "outputs": [],
     "prompt_number": 85
    },
    {
     "cell_type": "code",
     "collapsed": false,
     "input": [
      "# from hinc2.py -> main()\n",
      "log_cdf = thinkstats2.Cdf(log_sample)\n",
      "thinkplot.Cdf(log_cdf)\n",
      "thinkplot.Show(xlabel='household income', ylabel='CDF')"
     ],
     "language": "python",
     "metadata": {},
     "outputs": [
      {
       "metadata": {},
       "output_type": "display_data",
       "png": "[encoded data removed]",
       "text": [
        "<matplotlib.figure.Figure at 0x7ffbbe8b9b50>"
       ]
      },
      {
       "metadata": {},
       "output_type": "display_data",
       "text": [
        "<matplotlib.figure.Figure at 0x7ffbbe051190>"
       ]
      }
     ],
     "prompt_number": 86
    },
    {
     "cell_type": "markdown",
     "metadata": {},
     "source": [
      "."
     ]
    },
    {
     "cell_type": "markdown",
     "metadata": {},
     "source": [
      "Compute the median and mean."
     ]
    },
    {
     "cell_type": "markdown",
     "metadata": {},
     "source": [
      "Mean is 10^(4.66) = $45,455 (with infs...)"
     ]
    },
    {
     "cell_type": "code",
     "collapsed": false,
     "input": [
      "mean_exp = log_cdf.Mean()\n",
      "mean = 10**(mean_exp)\n",
      "mean_exp, mean"
     ],
     "language": "python",
     "metadata": {},
     "outputs": [
      {
       "metadata": {},
       "output_type": "pyout",
       "prompt_number": 88,
       "text": [
        "(4.6575857358919937, 45455.426381293)"
       ]
      }
     ],
     "prompt_number": 88
    },
    {
     "cell_type": "markdown",
     "metadata": {},
     "source": [
      "Median is 10^(4.71) = $51,226"
     ]
    },
    {
     "cell_type": "code",
     "collapsed": false,
     "input": [
      "med_exp = log_cdf.Value(0.5)\n",
      "med = 10**(med_exp)\n",
      "med_exp, med"
     ],
     "language": "python",
     "metadata": {},
     "outputs": [
      {
       "metadata": {},
       "output_type": "pyout",
       "prompt_number": 89,
       "text": [
        "(4.7094942982242376, 51226.454478940461)"
       ]
      }
     ],
     "prompt_number": 89
    },
    {
     "cell_type": "markdown",
     "metadata": {},
     "source": [
      "."
     ]
    },
    {
     "cell_type": "markdown",
     "metadata": {},
     "source": [
      "Compute the skewness"
     ]
    },
    {
     "cell_type": "code",
     "collapsed": false,
     "input": [
      "m3 = thinkstats2.CentralMoment(log_cdf.Values(), 3)\n",
      "m2 = thinkstats2.CentralMoment(log_cdf.Values(), 2)\n",
      "\n",
      "g1 = m3/(m2**(3/2)) # skewness\n",
      "g1"
     ],
     "language": "python",
     "metadata": {},
     "outputs": [
      {
       "metadata": {},
       "output_type": "pyout",
       "prompt_number": 102,
       "text": [
        "-0.29548729618780045"
       ]
      }
     ],
     "prompt_number": 102
    },
    {
     "cell_type": "markdown",
     "metadata": {},
     "source": [
      "."
     ]
    },
    {
     "cell_type": "markdown",
     "metadata": {},
     "source": [
      "Compute the Pearson's skewness"
     ]
    },
    {
     "cell_type": "code",
     "collapsed": false,
     "input": [
      "stdev = m2**0.5\n",
      "gp = 3*(mean - med)/stdev\n",
      "gp"
     ],
     "language": "python",
     "metadata": {},
     "outputs": [
      {
       "metadata": {},
       "output_type": "pyout",
       "prompt_number": 103,
       "text": [
        "-37568.706936607807"
       ]
      }
     ],
     "prompt_number": 103
    },
    {
     "cell_type": "markdown",
     "metadata": {},
     "source": [
      "."
     ]
    },
    {
     "cell_type": "markdown",
     "metadata": {},
     "source": [
      "Compute the fraction of respondents with incomes below the mean"
     ]
    },
    {
     "cell_type": "code",
     "collapsed": false,
     "input": [
      "log_cdf.Prob(mean)"
     ],
     "language": "python",
     "metadata": {},
     "outputs": [
      {
       "metadata": {},
       "output_type": "pyout",
       "prompt_number": 105,
       "text": [
        "1.0"
       ]
      }
     ],
     "prompt_number": 105
    },
    {
     "cell_type": "markdown",
     "metadata": {},
     "source": [
      "...everyone!"
     ]
    }
   ],
   "metadata": {}
  }
 ]
}