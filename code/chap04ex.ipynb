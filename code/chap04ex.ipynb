{
 "metadata": {
  "name": "",
  "signature": "sha256:635a6fff2e035d48def85fdd28e2e30e09c2bd94d58c5fcdfb1fdeed80497522"
 },
 "nbformat": 3,
 "nbformat_minor": 0,
 "worksheets": [
  {
   "cells": [
    {
     "cell_type": "code",
     "collapsed": false,
     "input": [
      "%matplotlib inline"
     ],
     "language": "python",
     "metadata": {},
     "outputs": [],
     "prompt_number": 15
    },
    {
     "cell_type": "markdown",
     "metadata": {},
     "source": [
      "Read the pregnancy file."
     ]
    },
    {
     "cell_type": "code",
     "collapsed": false,
     "input": [
      "import nsfg\n",
      "preg = nsfg.ReadFemPreg()"
     ],
     "language": "python",
     "metadata": {},
     "outputs": [],
     "prompt_number": 3
    },
    {
     "cell_type": "markdown",
     "metadata": {},
     "source": [
      "Select live births, then make a CDF of <tt>totalwgt_lb</tt>. "
     ]
    },
    {
     "cell_type": "code",
     "collapsed": false,
     "input": [
      "import thinkstats2\n",
      "live = preg[preg.outcome==1]\n",
      "cdf = thinkstats2.Cdf(live.totalwgt_lb, label='cdf')"
     ],
     "language": "python",
     "metadata": {},
     "outputs": [],
     "prompt_number": 17
    },
    {
     "cell_type": "markdown",
     "metadata": {},
     "source": [
      "Display the CDF."
     ]
    },
    {
     "cell_type": "code",
     "collapsed": false,
     "input": [
      "import thinkplot\n",
      "thinkplot.Cdf(cdf)\n",
      "thinkplot.Show()"
     ],
     "language": "python",
     "metadata": {},
     "outputs": [
      {
       "metadata": {},
       "output_type": "display_data",
       "png": "[encoded data removed]",
       "text": [
        "<matplotlib.figure.Figure at 0x7f540c5e5650>"
       ]
      },
      {
       "metadata": {},
       "output_type": "display_data",
       "text": [
        "<matplotlib.figure.Figure at 0x7f540c5e5f90>"
       ]
      }
     ],
     "prompt_number": 18
    },
    {
     "cell_type": "markdown",
     "metadata": {},
     "source": [
      "Find out how much you weighed at birth, if you can, and compute CDF(x). "
     ]
    },
    {
     "cell_type": "code",
     "collapsed": false,
     "input": [
      "cdf[9.5]"
     ],
     "language": "python",
     "metadata": {},
     "outputs": [
      {
       "metadata": {},
       "output_type": "pyout",
       "prompt_number": 19,
       "text": [
        "0.9605001106439478"
       ]
      }
     ],
     "prompt_number": 19
    },
    {
     "cell_type": "markdown",
     "metadata": {},
     "source": [
      "If you are a first child, look up your birthweight in the CDF of first children; otherwise use the CDF of other children."
     ]
    },
    {
     "cell_type": "code",
     "collapsed": false,
     "input": [
      "# assuming only live births\n",
      "first = live[live.pregordr == 1]\n",
      "other = live[live.pregordr > 1]\n",
      "cdf_first = thinkstats2.Cdf(first.totalwgt_lb)\n",
      "cdf_other = thinkstats2.Cdf(other.totalwgt_lb)\n",
      "\n",
      "cdf_first[9.5], cdf_other[9.5]"
     ],
     "language": "python",
     "metadata": {},
     "outputs": [
      {
       "metadata": {},
       "output_type": "pyout",
       "prompt_number": 31,
       "text": [
        "(0.9611796569365032, 0.96010498687664036)"
       ]
      }
     ],
     "prompt_number": 31
    },
    {
     "cell_type": "markdown",
     "metadata": {},
     "source": [
      "Compute the percentile rank of your birthweight"
     ]
    },
    {
     "cell_type": "code",
     "collapsed": false,
     "input": [
      "cdf.PercentileRank(9.5)"
     ],
     "language": "python",
     "metadata": {},
     "outputs": [
      {
       "metadata": {},
       "output_type": "pyout",
       "prompt_number": 33,
       "text": [
        "96.050011064394781"
       ]
      }
     ],
     "prompt_number": 33
    },
    {
     "cell_type": "markdown",
     "metadata": {},
     "source": [
      "Compute the median birth weight by looking up the value associated with p=0.5."
     ]
    },
    {
     "cell_type": "code",
     "collapsed": false,
     "input": [
      "cdf.Value(0.5)"
     ],
     "language": "python",
     "metadata": {},
     "outputs": [
      {
       "metadata": {},
       "output_type": "pyout",
       "prompt_number": 36,
       "text": [
        "7.375"
       ]
      }
     ],
     "prompt_number": 36
    },
    {
     "cell_type": "markdown",
     "metadata": {},
     "source": [
      "Compute the interquartile range (IQR) by computing percentiles corresponding to 25 and 75. "
     ]
    },
    {
     "cell_type": "code",
     "collapsed": false,
     "input": [
      "cdf.Percentile(25), cdf.Percentile(75)"
     ],
     "language": "python",
     "metadata": {},
     "outputs": [
      {
       "metadata": {},
       "output_type": "pyout",
       "prompt_number": 37,
       "text": [
        "(6.5, 8.125)"
       ]
      }
     ],
     "prompt_number": 37
    },
    {
     "cell_type": "markdown",
     "metadata": {},
     "source": [
      "Make a random selection from <tt>cdf</tt>."
     ]
    },
    {
     "cell_type": "code",
     "collapsed": false,
     "input": [
      "cdf.Random()"
     ],
     "language": "python",
     "metadata": {},
     "outputs": [
      {
       "metadata": {},
       "output_type": "pyout",
       "prompt_number": 40,
       "text": [
        "8.0625"
       ]
      }
     ],
     "prompt_number": 40
    },
    {
     "cell_type": "markdown",
     "metadata": {},
     "source": [
      "Draw a random sample from <tt>cdf</tt>."
     ]
    },
    {
     "cell_type": "code",
     "collapsed": false,
     "input": [
      "cdf.Sample(10)"
     ],
     "language": "python",
     "metadata": {},
     "outputs": [
      {
       "metadata": {},
       "output_type": "pyout",
       "prompt_number": 43,
       "text": [
        "array([ 6.9375,  6.125 ,  6.375 ,  8.    ,  1.5   ,  7.375 ,  7.    ,\n",
        "        6.4375,  7.75  ,  7.6875])"
       ]
      }
     ],
     "prompt_number": 43
    },
    {
     "cell_type": "markdown",
     "metadata": {},
     "source": [
      "Draw a random sample from <tt>cdf</tt>, then compute the percentile rank for each value, and plot the distribution of the percentile ranks."
     ]
    },
    {
     "cell_type": "code",
     "collapsed": false,
     "input": [
      "percentiles = cdf.Sample(1000) # get random percentiles\n",
      "percentileRanks = [cdf.PercentileRank(p) for p in percentiles] # get percentile ranks\n",
      "sample_cdf = thinkstats2.Cdf(percentileRanks)\n",
      "thinkplot.Cdf(sample_cdf)\n",
      "thinkplot.Show()"
     ],
     "language": "python",
     "metadata": {},
     "outputs": [
      {
       "metadata": {},
       "output_type": "display_data",
       "png": "[encoded data removed]",
       "text": [
        "<matplotlib.figure.Figure at 0x7f540c5ef450>"
       ]
      },
      {
       "metadata": {},
       "output_type": "display_data",
       "text": [
        "<matplotlib.figure.Figure at 0x7f540c5ef790>"
       ]
      }
     ],
     "prompt_number": 70
    },
    {
     "cell_type": "markdown",
     "metadata": {},
     "source": [
      "Generate 1000 random values using <tt>random.random()</tt> and plot their PMF."
     ]
    },
    {
     "cell_type": "code",
     "collapsed": false,
     "input": [
      "import random\n",
      "rand = [random.random() for x in range(1000)]\n",
      "rand_pmf = thinkstats2.Pmf(rand)\n",
      "thinkplot.Pmf(rand_pmf)\n",
      "thinkplot.Show()"
     ],
     "language": "python",
     "metadata": {},
     "outputs": [
      {
       "metadata": {},
       "output_type": "display_data",
       "png": "[encoded data removed]",
       "text": [
        "<matplotlib.figure.Figure at 0x7f540c5dfed0>"
       ]
      },
      {
       "metadata": {},
       "output_type": "display_data",
       "text": [
        "<matplotlib.figure.Figure at 0x7f540d8a8ed0>"
       ]
      }
     ],
     "prompt_number": 80
    },
    {
     "cell_type": "markdown",
     "metadata": {},
     "source": [
      "Assuming that the PMF doesn't work very well, try plotting the CDF instead."
     ]
    },
    {
     "cell_type": "markdown",
     "metadata": {},
     "source": [
      "IT'S SO BLUE"
     ]
    },
    {
     "cell_type": "code",
     "collapsed": false,
     "input": [
      "rand_cdf = thinkstats2.Cdf(rand)\n",
      "thinkplot.Cdf(rand_cdf)\n",
      "thinkplot.Show()"
     ],
     "language": "python",
     "metadata": {},
     "outputs": [
      {
       "metadata": {},
       "output_type": "display_data",
       "png": "[encoded data removed]",
       "text": [
        "<matplotlib.figure.Figure at 0x7f540c68f1d0>"
       ]
      },
      {
       "metadata": {},
       "output_type": "display_data",
       "text": [
        "<matplotlib.figure.Figure at 0x7f540d0e5110>"
       ]
      }
     ],
     "prompt_number": 81
    },
    {
     "cell_type": "code",
     "collapsed": false,
     "input": [],
     "language": "python",
     "metadata": {},
     "outputs": [],
     "prompt_number": 60
    },
    {
     "cell_type": "code",
     "collapsed": false,
     "input": [],
     "language": "python",
     "metadata": {},
     "outputs": [
      {
       "metadata": {},
       "output_type": "pyout",
       "prompt_number": 64,
       "text": [
        "0.5"
       ]
      }
     ],
     "prompt_number": 64
    },
    {
     "cell_type": "code",
     "collapsed": false,
     "input": [],
     "language": "python",
     "metadata": {},
     "outputs": []
    }
   ],
   "metadata": {}
  }
 ]
}