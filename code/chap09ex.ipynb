{
 "metadata": {
  "name": "",
  "signature": "sha256:2f10ccc9e5da79a024f0f7f338f9167c2c09b06e4d165b9883e182b23413e89e"
 },
 "nbformat": 3,
 "nbformat_minor": 0,
 "worksheets": [
  {
   "cells": [
    {
     "cell_type": "markdown",
     "metadata": {},
     "source": [
      "This file contains code and exercises from Think Stats, 2nd Edition, by Allen Downey (thinkstats2.com)"
     ]
    },
    {
     "cell_type": "code",
     "collapsed": false,
     "input": [
      "from __future__ import print_function, division\n",
      "\n",
      "import thinkstats2\n",
      "import thinkplot\n",
      "\n",
      "import first\n",
      "import hypothesis\n",
      "import numpy as np\n",
      "\n",
      "%matplotlib inline"
     ],
     "language": "python",
     "metadata": {},
     "outputs": [],
     "prompt_number": 12
    },
    {
     "cell_type": "markdown",
     "metadata": {},
     "source": [
      "Read the data:"
     ]
    },
    {
     "cell_type": "code",
     "collapsed": false,
     "input": [
      "live, firsts, others = first.MakeFrames()"
     ],
     "language": "python",
     "metadata": {},
     "outputs": [],
     "prompt_number": 13
    },
    {
     "cell_type": "markdown",
     "metadata": {},
     "source": [
      "This is a copy of the class defined in `hypothesis.py`:"
     ]
    },
    {
     "cell_type": "code",
     "collapsed": false,
     "input": [
      "class DiffMeansPermute(thinkstats2.HypothesisTest):\n",
      "    \"\"\"Tests a difference in means by permutation.\"\"\"\n",
      "\n",
      "    def TestStatistic(self, data):\n",
      "        \"\"\"Computes the test statistic.\n",
      "\n",
      "        data: data in whatever form is relevant        \n",
      "        \"\"\"\n",
      "        group1, group2 = data\n",
      "        test_stat = abs(group1.mean() - group2.mean())\n",
      "        return test_stat\n",
      "\n",
      "    def MakeModel(self):\n",
      "        \"\"\"Build a model of the null hypothesis.\n",
      "        \"\"\"\n",
      "        group1, group2 = self.data\n",
      "        self.n, self.m = len(group1), len(group2)\n",
      "        self.pool = np.hstack((group1, group2))\n",
      "\n",
      "    def RunModel(self):\n",
      "        \"\"\"Run the model of the null hypothesis.\n",
      "\n",
      "        returns: simulated data\n",
      "        \"\"\"\n",
      "        np.random.shuffle(self.pool)\n",
      "        data = self.pool[:self.n], self.pool[self.n:]\n",
      "        return data"
     ],
     "language": "python",
     "metadata": {},
     "outputs": [],
     "prompt_number": 14
    },
    {
     "cell_type": "markdown",
     "metadata": {},
     "source": [
      "Compute the p-value of the difference in weights between first babies and others:"
     ]
    },
    {
     "cell_type": "code",
     "collapsed": false,
     "input": [
      "    data = (firsts.totalwgt_lb.dropna().values,\n",
      "            others.totalwgt_lb.dropna().values)\n",
      "    ht = hypothesis.DiffMeansPermute(data)\n",
      "    p_value = ht.PValue(iters=10000)\n",
      "    print('\\nmeans permute birthweight')\n",
      "    print('p-value =', p_value)\n",
      "    print('actual =', ht.actual)\n",
      "    print('ts max =', ht.MaxTestStat())"
     ],
     "language": "python",
     "metadata": {},
     "outputs": [
      {
       "output_type": "stream",
       "stream": "stdout",
       "text": [
        "\n",
        "means permute birthweight\n",
        "p-value = 0.0\n",
        "actual = 0.124761184535\n",
        "ts max = 0.108698670517\n"
       ]
      }
     ],
     "prompt_number": 15
    },
    {
     "cell_type": "markdown",
     "metadata": {},
     "source": [
      "Plot the CDF of the test statistic under the null hypothesis:"
     ]
    },
    {
     "cell_type": "code",
     "collapsed": false,
     "input": [
      "    ht.PlotCdf()"
     ],
     "language": "python",
     "metadata": {},
     "outputs": [
      {
       "metadata": {},
       "output_type": "display_data",
       "png": "[encoded data removed]",
       "text": [
        "<matplotlib.figure.Figure at 0x7f3553042a90>"
       ]
      }
     ],
     "prompt_number": 16
    },
    {
     "cell_type": "markdown",
     "metadata": {},
     "source": [
      "Exercise 9.2: In Section 9.3, we simulated the null hypothesis by permutation; that is, we treated the observed values as if they represented the entire population, and randomly assigned the members of the population to the two groups.\n",
      "\n",
      "An alternative is to use the sample to estimate the distribution for the population, then draw a random sample from that distribution. This process is called resampling. There are several ways to implement resampling, but one of the simplest is to draw a sample with replacement from the observed values, as in Section 9.10.\n",
      "\n",
      "Write a class named `DiffMeansResample` that inherits from `DiffMeansPermute` and overrides `RunModel` to implement resampling, rather than permutation.\n",
      "\n",
      "Use this model to test the differences in pregnancy length and birth weight. How much does the model affect the results?"
     ]
    },
    {
     "cell_type": "code",
     "collapsed": false,
     "input": [
      "class DiffMeansResample(DiffMeansPermute):\n",
      "    def RunModel(self):\n",
      "        resData0 = thinkstats2.Resample(self.data[0])\n",
      "        resData1 = thinkstats2.Resample(self.data[1])\n",
      "        data = resData0, resData1\n",
      "        return data"
     ],
     "language": "python",
     "metadata": {},
     "outputs": [],
     "prompt_number": 32
    },
    {
     "cell_type": "markdown",
     "metadata": {},
     "source": [
      "Here's some code to test your implementation of `DiffMeansResample`."
     ]
    },
    {
     "cell_type": "code",
     "collapsed": false,
     "input": [
      "    data = firsts.prglngth.values, others.prglngth.values\n",
      "    ht = DiffMeansResample(data)\n",
      "    p_value = ht.PValue(iters=10000)\n",
      "    print('\\nmeans permute preglength')\n",
      "    print('p-value =', p_value)\n",
      "    print('actual =', ht.actual)\n",
      "    print('ts max =', ht.MaxTestStat())"
     ],
     "language": "python",
     "metadata": {},
     "outputs": [
      {
       "output_type": "stream",
       "stream": "stdout",
       "text": [
        "\n",
        "means permute preglength\n",
        "p-value = 0.5022\n",
        "actual = 0.0780372667775\n",
        "ts max = 0.292756090949\n"
       ]
      }
     ],
     "prompt_number": 33
    },
    {
     "cell_type": "code",
     "collapsed": false,
     "input": [],
     "language": "python",
     "metadata": {},
     "outputs": [],
     "prompt_number": 18
    }
   ],
   "metadata": {}
  }
 ]
}