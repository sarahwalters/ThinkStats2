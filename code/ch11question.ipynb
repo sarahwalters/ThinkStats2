{
 "metadata": {
  "name": "",
  "signature": "sha256:ebf922b2ab09a601e86e08418f316408b884b3071aa2bda41e9f21ebb4bbd0dd"
 },
 "nbformat": 3,
 "nbformat_minor": 0,
 "worksheets": [
  {
   "cells": [
    {
     "cell_type": "code",
     "collapsed": false,
     "input": [
      "import first\n",
      "import chap01soln\n",
      "\n",
      "live, firsts, others = first.MakeFrames()\n",
      "resp = chap01soln.ReadFemResp()\n",
      "resp.index = resp.caseid\n",
      "\n",
      "join = live.join(resp, on='caseid', rsuffix='_r')"
     ],
     "language": "python",
     "metadata": {},
     "outputs": [],
     "prompt_number": 1
    },
    {
     "cell_type": "code",
     "collapsed": false,
     "input": [
      "types1 = []\n",
      "for name in join.columns:\n",
      "    formula = \"totalwgt_lb ~ agepreg + \" + name\n",
      "    types1.append(type(formula))"
     ],
     "language": "python",
     "metadata": {},
     "outputs": [],
     "prompt_number": 6
    },
    {
     "cell_type": "code",
     "collapsed": false,
     "input": [
      "types2 = []\n",
      "for name in join.columns:\n",
      "    formula = 'totalwgt_lb ~ agepreg + ' + name\n",
      "    types2.append(type(formula))"
     ],
     "language": "python",
     "metadata": {},
     "outputs": [],
     "prompt_number": 7
    },
    {
     "cell_type": "code",
     "collapsed": false,
     "input": [
      "types3 = []\n",
      "for name in join.columns:\n",
      "    formula = str('totalwgt_lb ~ agepreg + ' + name)\n",
      "    types3.append(type(formula))"
     ],
     "language": "python",
     "metadata": {},
     "outputs": [],
     "prompt_number": 8
    },
    {
     "cell_type": "code",
     "collapsed": false,
     "input": [
      "print \"Double quotes: \", types1[0]\n",
      "print \"Single quotes: \", types2[0]\n",
      "print \"Cast to string: \", types3[0]"
     ],
     "language": "python",
     "metadata": {},
     "outputs": [
      {
       "output_type": "stream",
       "stream": "stdout",
       "text": [
        "Double quotes:  <type 'unicode'>\n",
        "Single quotes:  <type 'unicode'>\n",
        "Cast to string:  <type 'str'>\n"
       ]
      }
     ],
     "prompt_number": 15
    }
   ],
   "metadata": {}
  }
 ]
}